{
 "cells": [
  {
   "cell_type": "markdown",
   "id": "a9cc57c5",
   "metadata": {},
   "source": [
    "# Welcome to Our Python World .|. Class - 6"
   ]
  },
  {
   "cell_type": "code",
   "execution_count": 1,
   "id": "acdcc634",
   "metadata": {},
   "outputs": [],
   "source": [
    "def my_function():\n",
    "  print(\"Hello from a function\")"
   ]
  },
  {
   "cell_type": "code",
   "execution_count": 2,
   "id": "c4c99389",
   "metadata": {},
   "outputs": [
    {
     "name": "stdout",
     "output_type": "stream",
     "text": [
      "Hello from a function\n"
     ]
    }
   ],
   "source": [
    "my_function()"
   ]
  },
  {
   "cell_type": "code",
   "execution_count": 3,
   "id": "3b326670",
   "metadata": {},
   "outputs": [],
   "source": [
    "def python():\n",
    "    print(\"Hello world\")"
   ]
  },
  {
   "cell_type": "code",
   "execution_count": 4,
   "id": "2dfafccd",
   "metadata": {},
   "outputs": [
    {
     "name": "stdout",
     "output_type": "stream",
     "text": [
      "Hello world\n"
     ]
    }
   ],
   "source": [
    "python()"
   ]
  },
  {
   "cell_type": "code",
   "execution_count": 6,
   "id": "df496c6f",
   "metadata": {},
   "outputs": [
    {
     "name": "stdout",
     "output_type": "stream",
     "text": [
      "virat Kohli\n",
      "Rohit Kohli\n",
      "Sachin Kohli\n"
     ]
    }
   ],
   "source": [
    "def my_function(fname):\n",
    "  print(fname + \" Kohli\")\n",
    "\n",
    "my_function(\"virat\")\n",
    "my_function(\"Rohit\")\n",
    "my_function(\"Sachin\")"
   ]
  },
  {
   "cell_type": "code",
   "execution_count": 7,
   "id": "7df68638",
   "metadata": {},
   "outputs": [
    {
     "name": "stdout",
     "output_type": "stream",
     "text": [
      "I am from : India\n",
      "I am from : America\n",
      "I am from : NewZealand\n"
     ]
    }
   ],
   "source": [
    "def my_country(country):\n",
    "    print(\"I am from : \"+country)\n",
    "    \n",
    "my_country(\"India\")\n",
    "my_country(\"America\")\n",
    "my_country(\"NewZealand\")"
   ]
  },
  {
   "cell_type": "code",
   "execution_count": 9,
   "id": "b2deb37a",
   "metadata": {},
   "outputs": [
    {
     "name": "stdout",
     "output_type": "stream",
     "text": [
      "apple\n",
      "banana\n",
      "cherry\n"
     ]
    }
   ],
   "source": [
    "def my_function(food):\n",
    "  for x in food:\n",
    "    print(x)\n",
    "\n",
    "fruits = [\"apple\", \"banana\", \"cherry\"]\n",
    "\n",
    "my_function(fruits)"
   ]
  },
  {
   "cell_type": "code",
   "execution_count": 10,
   "id": "515247de",
   "metadata": {},
   "outputs": [],
   "source": [
    "# Return Values"
   ]
  },
  {
   "cell_type": "code",
   "execution_count": 11,
   "id": "9a54082a",
   "metadata": {},
   "outputs": [
    {
     "name": "stdout",
     "output_type": "stream",
     "text": [
      "15\n",
      "25\n",
      "45\n"
     ]
    }
   ],
   "source": [
    "def my_function(x):\n",
    "  return 5 * x\n",
    "\n",
    "print(my_function(3))\n",
    "print(my_function(5))\n",
    "print(my_function(9))"
   ]
  },
  {
   "cell_type": "code",
   "execution_count": null,
   "id": "dfbf81d8",
   "metadata": {},
   "outputs": [],
   "source": []
  }
 ],
 "metadata": {
  "kernelspec": {
   "display_name": "Python 3 (ipykernel)",
   "language": "python",
   "name": "python3"
  },
  "language_info": {
   "codemirror_mode": {
    "name": "ipython",
    "version": 3
   },
   "file_extension": ".py",
   "mimetype": "text/x-python",
   "name": "python",
   "nbconvert_exporter": "python",
   "pygments_lexer": "ipython3",
   "version": "3.10.9"
  }
 },
 "nbformat": 4,
 "nbformat_minor": 5
}
