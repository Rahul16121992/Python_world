{
 "cells": [
  {
   "cell_type": "markdown",
   "id": "17ca2533",
   "metadata": {},
   "source": [
    "# Welcome to Our Python World .|. Class - 4"
   ]
  },
  {
   "cell_type": "code",
   "execution_count": 2,
   "id": "3f410083",
   "metadata": {},
   "outputs": [],
   "source": [
    "# If,else,elif concept"
   ]
  },
  {
   "cell_type": "code",
   "execution_count": 3,
   "id": "47518a87",
   "metadata": {},
   "outputs": [
    {
     "name": "stdout",
     "output_type": "stream",
     "text": [
      "A is greaterthan B\n"
     ]
    }
   ],
   "source": [
    "a=34\n",
    "b=21\n",
    "\n",
    "if a>b:\n",
    "    print(\"A is greaterthan B\")\n",
    "else:\n",
    "    print(\"B is graterthan A\")"
   ]
  },
  {
   "cell_type": "code",
   "execution_count": 4,
   "id": "aa3f1f94",
   "metadata": {},
   "outputs": [
    {
     "name": "stdout",
     "output_type": "stream",
     "text": [
      "B is graterthan A\n"
     ]
    }
   ],
   "source": [
    "a=34\n",
    "b=213\n",
    "\n",
    "if a>b:\n",
    "    print(\"A is greaterthan B\")\n",
    "else:\n",
    "    print(\"B is graterthan A\")"
   ]
  },
  {
   "cell_type": "code",
   "execution_count": 5,
   "id": "9be0d127",
   "metadata": {},
   "outputs": [
    {
     "name": "stdout",
     "output_type": "stream",
     "text": [
      "x is greaterthan and equal to y\n"
     ]
    }
   ],
   "source": [
    "x=122\n",
    "y=122\n",
    "\n",
    "if x>=y:\n",
    "    print(\"x is greaterthan and equal to y\")\n",
    "    \n",
    "else:\n",
    "    print(\"y is greaterthan x\")"
   ]
  },
  {
   "cell_type": "code",
   "execution_count": 6,
   "id": "bd814ffe",
   "metadata": {},
   "outputs": [],
   "source": [
    "# Nested If condition"
   ]
  },
  {
   "cell_type": "code",
   "execution_count": 15,
   "id": "31038d16",
   "metadata": {},
   "outputs": [
    {
     "name": "stdout",
     "output_type": "stream",
     "text": [
      "Above ten,\n",
      "and also above 20!\n"
     ]
    }
   ],
   "source": [
    "x = 41\n",
    "\n",
    "if x > 10:\n",
    "  print(\"Above ten,\")\n",
    "  if x > 20:\n",
    "    print(\"and also above 20!\")\n",
    "  else:\n",
    "    print(\"but not above 20.\")"
   ]
  },
  {
   "cell_type": "code",
   "execution_count": 18,
   "id": "65e18138",
   "metadata": {},
   "outputs": [],
   "source": [
    "# Elif\n",
    "# The elif keyword is pythons way of saying \"if the previous conditions were not true, then try this condition\"."
   ]
  },
  {
   "cell_type": "code",
   "execution_count": 19,
   "id": "86aa5e62",
   "metadata": {},
   "outputs": [
    {
     "name": "stdout",
     "output_type": "stream",
     "text": [
      "a and b are equal\n"
     ]
    }
   ],
   "source": [
    "a = 33\n",
    "b = 33\n",
    "if b > a:\n",
    "  print(\"b is greater than a\")\n",
    "elif a == b:\n",
    "  print(\"a and b are equal\")"
   ]
  },
  {
   "cell_type": "code",
   "execution_count": null,
   "id": "488639c8",
   "metadata": {},
   "outputs": [],
   "source": []
  },
  {
   "cell_type": "code",
   "execution_count": null,
   "id": "f67e35bc",
   "metadata": {},
   "outputs": [],
   "source": []
  }
 ],
 "metadata": {
  "kernelspec": {
   "display_name": "Python 3 (ipykernel)",
   "language": "python",
   "name": "python3"
  },
  "language_info": {
   "codemirror_mode": {
    "name": "ipython",
    "version": 3
   },
   "file_extension": ".py",
   "mimetype": "text/x-python",
   "name": "python",
   "nbconvert_exporter": "python",
   "pygments_lexer": "ipython3",
   "version": "3.10.9"
  }
 },
 "nbformat": 4,
 "nbformat_minor": 5
}
