{
 "cells": [
  {
   "cell_type": "markdown",
   "id": "623b6aa7",
   "metadata": {},
   "source": [
    "# Welcome to Our Python World  .|. Class -1"
   ]
  },
  {
   "cell_type": "markdown",
   "id": "831e03ae",
   "metadata": {},
   "source": [
    "# What is Python?\n",
    "Python is a popular programming language. It was created by Guido van Rossum, and released in 1991.\n",
    "\n",
    "It is used for:\n",
    "\n",
    "1.web development (server-side),\n",
    "2.software development,\n",
    "3.mathematics,\n",
    "4.system scripting.\n",
    "\n",
    "Python is a popular programming language.\n",
    "\n",
    "Python can be used on a server to create web applications.\n",
    "\n"
   ]
  },
  {
   "cell_type": "code",
   "execution_count": 3,
   "id": "e58a9741",
   "metadata": {},
   "outputs": [
    {
     "name": "stdout",
     "output_type": "stream",
     "text": [
      "Hello World\n"
     ]
    }
   ],
   "source": [
    "print(\"Hello World\")"
   ]
  },
  {
   "cell_type": "code",
   "execution_count": 4,
   "id": "35c50ac0",
   "metadata": {},
   "outputs": [
    {
     "name": "stdout",
     "output_type": "stream",
     "text": [
      "I am a Coder\n"
     ]
    }
   ],
   "source": [
    "print(\"I am a Coder\")"
   ]
  },
  {
   "cell_type": "code",
   "execution_count": 5,
   "id": "dfaf830b",
   "metadata": {},
   "outputs": [
    {
     "name": "stdout",
     "output_type": "stream",
     "text": [
      "I am a Data Scientist\n"
     ]
    }
   ],
   "source": [
    "print(\"I am a Data Scientist\")"
   ]
  },
  {
   "cell_type": "code",
   "execution_count": 6,
   "id": "373ef5a1",
   "metadata": {},
   "outputs": [
    {
     "name": "stdout",
     "output_type": "stream",
     "text": [
      "This is my Jupyter notebook\n"
     ]
    }
   ],
   "source": [
    "print(\"This is my Jupyter notebook\")"
   ]
  },
  {
   "cell_type": "markdown",
   "id": "57cf5c06",
   "metadata": {},
   "source": [
    "# Python Variables"
   ]
  },
  {
   "cell_type": "code",
   "execution_count": 7,
   "id": "51be470e",
   "metadata": {},
   "outputs": [],
   "source": [
    "x=5\n",
    "y=\"Hello World!\""
   ]
  },
  {
   "cell_type": "code",
   "execution_count": 8,
   "id": "58299b8f",
   "metadata": {},
   "outputs": [
    {
     "name": "stdout",
     "output_type": "stream",
     "text": [
      "5\n"
     ]
    }
   ],
   "source": [
    "print(x)"
   ]
  },
  {
   "cell_type": "code",
   "execution_count": 9,
   "id": "768b3e2c",
   "metadata": {},
   "outputs": [
    {
     "name": "stdout",
     "output_type": "stream",
     "text": [
      "Hello World!\n"
     ]
    }
   ],
   "source": [
    "print(y)"
   ]
  },
  {
   "cell_type": "code",
   "execution_count": 10,
   "id": "45c4a164",
   "metadata": {},
   "outputs": [],
   "source": [
    "a=1992\n",
    "b=28\n",
    "c=\"Python World\""
   ]
  },
  {
   "cell_type": "code",
   "execution_count": 11,
   "id": "90c657c7",
   "metadata": {},
   "outputs": [
    {
     "name": "stdout",
     "output_type": "stream",
     "text": [
      "1992 28 Python World\n"
     ]
    }
   ],
   "source": [
    "print(a,b,c)"
   ]
  },
  {
   "cell_type": "code",
   "execution_count": 12,
   "id": "1fec6a6e",
   "metadata": {},
   "outputs": [
    {
     "name": "stdout",
     "output_type": "stream",
     "text": [
      "1992\n"
     ]
    }
   ],
   "source": [
    "print(a)"
   ]
  },
  {
   "cell_type": "code",
   "execution_count": 13,
   "id": "9c418fd7",
   "metadata": {},
   "outputs": [
    {
     "name": "stdout",
     "output_type": "stream",
     "text": [
      "28\n"
     ]
    }
   ],
   "source": [
    "print(b)"
   ]
  },
  {
   "cell_type": "code",
   "execution_count": 14,
   "id": "d02f22e3",
   "metadata": {},
   "outputs": [
    {
     "name": "stdout",
     "output_type": "stream",
     "text": [
      "Python World\n"
     ]
    }
   ],
   "source": [
    "print(c)"
   ]
  },
  {
   "cell_type": "code",
   "execution_count": 15,
   "id": "17985f26",
   "metadata": {},
   "outputs": [],
   "source": [
    "# This is our comment\n",
    "# Hashtag is used for using comment"
   ]
  },
  {
   "cell_type": "markdown",
   "id": "83834ffa",
   "metadata": {},
   "source": [
    "# Valid Variable names "
   ]
  },
  {
   "cell_type": "code",
   "execution_count": 19,
   "id": "56691904",
   "metadata": {},
   "outputs": [],
   "source": [
    "myvar = \"python\"\n",
    "my_var = \"python\"\n",
    "_my_var = \"python\"\n",
    "myVar = \"python\"\n",
    "MYVAR = \"python\"\n",
    "myvar2 = \"python\""
   ]
  },
  {
   "cell_type": "code",
   "execution_count": 20,
   "id": "a8df97b5",
   "metadata": {},
   "outputs": [
    {
     "name": "stdout",
     "output_type": "stream",
     "text": [
      "python\n"
     ]
    }
   ],
   "source": [
    "print(myvar)"
   ]
  },
  {
   "cell_type": "code",
   "execution_count": 21,
   "id": "8b208530",
   "metadata": {},
   "outputs": [
    {
     "name": "stdout",
     "output_type": "stream",
     "text": [
      "python\n"
     ]
    }
   ],
   "source": [
    "print(my_var)"
   ]
  },
  {
   "cell_type": "markdown",
   "id": "3c4ca001",
   "metadata": {},
   "source": [
    "# Invalid Variable names"
   ]
  },
  {
   "cell_type": "code",
   "execution_count": 17,
   "id": "305c7763",
   "metadata": {},
   "outputs": [
    {
     "ename": "SyntaxError",
     "evalue": "invalid decimal literal (3666681866.py, line 1)",
     "output_type": "error",
     "traceback": [
      "\u001b[1;36m  Cell \u001b[1;32mIn[17], line 1\u001b[1;36m\u001b[0m\n\u001b[1;33m    2myvar = \"Python\"\u001b[0m\n\u001b[1;37m    ^\u001b[0m\n\u001b[1;31mSyntaxError\u001b[0m\u001b[1;31m:\u001b[0m invalid decimal literal\n"
     ]
    }
   ],
   "source": [
    "2myvar = \"Python\"\n",
    "my-var = \"Python\"\n",
    "my var = \"Python\""
   ]
  },
  {
   "cell_type": "markdown",
   "id": "0a527dca",
   "metadata": {},
   "source": [
    "# Python Variables - Assign Multiple Values"
   ]
  },
  {
   "cell_type": "code",
   "execution_count": 24,
   "id": "90d0dabc",
   "metadata": {},
   "outputs": [],
   "source": [
    "x, y, z = \"Apple\", \"Banana\", \"Cherry\""
   ]
  },
  {
   "cell_type": "code",
   "execution_count": 25,
   "id": "8a0f8bf9",
   "metadata": {},
   "outputs": [
    {
     "name": "stdout",
     "output_type": "stream",
     "text": [
      "Apple\n",
      "Banana\n",
      "Cherry\n"
     ]
    }
   ],
   "source": [
    "print(x)\n",
    "print(y)\n",
    "print(z)"
   ]
  },
  {
   "cell_type": "markdown",
   "id": "b67c529a",
   "metadata": {},
   "source": [
    "# One Value to Multiple Variables"
   ]
  },
  {
   "cell_type": "code",
   "execution_count": 26,
   "id": "234f0306",
   "metadata": {},
   "outputs": [
    {
     "name": "stdout",
     "output_type": "stream",
     "text": [
      "Potato\n",
      "Potato\n",
      "Potato\n"
     ]
    }
   ],
   "source": [
    "x = y = z = \"Potato\"\n",
    "print(x)\n",
    "print(y)\n",
    "print(z)"
   ]
  },
  {
   "cell_type": "markdown",
   "id": "0f749e8f",
   "metadata": {},
   "source": [
    "# Completed"
   ]
  }
 ],
 "metadata": {
  "kernelspec": {
   "display_name": "Python 3 (ipykernel)",
   "language": "python",
   "name": "python3"
  },
  "language_info": {
   "codemirror_mode": {
    "name": "ipython",
    "version": 3
   },
   "file_extension": ".py",
   "mimetype": "text/x-python",
   "name": "python",
   "nbconvert_exporter": "python",
   "pygments_lexer": "ipython3",
   "version": "3.10.9"
  }
 },
 "nbformat": 4,
 "nbformat_minor": 5
}
